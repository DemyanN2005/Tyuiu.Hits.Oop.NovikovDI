{
 "cells": [
  {
   "cell_type": "markdown",
   "metadata": {},
   "source": [
    "<h1 style=\"color:DodgerBlue\">Индивидальный проект</h1>"
   ]
  },
  {
   "cell_type": "markdown",
   "metadata": {},
   "source": [
    "<h2 style=\"color:DodgerBlue\">Название проекта:</h2>\n",
    "\n",
    "----\n",
    "\n",
    "### Вариант задания \n"
   ]
  },
  {
   "cell_type": "markdown",
   "metadata": {},
   "source": [
    "<h2 style=\"color:DodgerBlue\">Описание проекта:</h2>\n",
    "\n",
    "----\n",
    "\n",
    "[ваш текст]\n",
    "\n",
    "#### Дополнительное задание\n",
    "Добавьте к сущестующим классам конструктора классов с использованием гетторов и сетторов и реализуйте взаимодействие объектов между собой"
   ]
  },
  {
   "cell_type": "markdown",
   "metadata": {},
   "source": [
    "<h2 style=\"color:DodgerBlue\">Реализация:</h2>\n",
    "\n",
    "----"
   ]
  },
  {
   "cell_type": "code",
   "execution_count": 1,
   "metadata": {
    "dotnet_interactive": {
     "language": "csharp"
    },
    "polyglot_notebook": {
     "kernelName": "csharp"
    }
   },
   "outputs": [
    {
     "name": "stdout",
     "output_type": "stream",
     "text": [
      "Status of project Product A updated to Completed\n",
      "Expected Completion Date: 12/31/2023\n",
      "Team member John Doe with specific skills assigned to research project Research X\n",
      "Project ID: 3, Project Name: Infrastructure Y, Status: Completed\n",
      "Execution Period: 12 months\n"
     ]
    }
   ],
   "source": [
    "using System;\n",
    "\n",
    "public class Project\n",
    "{\n",
    "    public int ProjectId { get; set; }\n",
    "    public string ProjectName { get; set; }\n",
    "    public string Status { get; set; }\n",
    "\n",
    "    public Project(int projectId, string projectName, string status)\n",
    "    {\n",
    "        ProjectId = projectId;\n",
    "        ProjectName = projectName;\n",
    "        Status = status;\n",
    "    }\n",
    "\n",
    "    public virtual void UpdateStatus(string newStatus)\n",
    "    {\n",
    "        Status = newStatus;\n",
    "        Console.WriteLine($\"Status of project {ProjectName} updated to {Status}\");\n",
    "    }\n",
    "\n",
    "    public virtual void GetProjectDetails()\n",
    "    {\n",
    "        Console.WriteLine($\"Project ID: {ProjectId}, Project Name: {ProjectName}, Status: {Status}\");\n",
    "    }\n",
    "\n",
    "    public virtual void AssignTeamMember(string memberName)\n",
    "    {\n",
    "        Console.WriteLine($\"Team member {memberName} assigned to project {ProjectName}\");\n",
    "    }\n",
    "}\n",
    "\n",
    "public class ProductProject : Project\n",
    "{\n",
    "    public DateTime ExpectedCompletionDate { get; set; }\n",
    "\n",
    "    public ProductProject(int projectId, string projectName, string status, DateTime expectedCompletionDate)\n",
    "        : base(projectId, projectName, status)\n",
    "    {\n",
    "        ExpectedCompletionDate = expectedCompletionDate;\n",
    "    }\n",
    "\n",
    "    public override void UpdateStatus(string newStatus)\n",
    "    {\n",
    "        base.UpdateStatus(newStatus);\n",
    "        Console.WriteLine($\"Expected Completion Date: {ExpectedCompletionDate.ToShortDateString()}\");\n",
    "    }\n",
    "}\n",
    "\n",
    "public class ResearchProject : Project\n",
    "{\n",
    "    public decimal FundingAmount { get; set; }\n",
    "\n",
    "    public ResearchProject(int projectId, string projectName, string status, decimal fundingAmount)\n",
    "        : base(projectId, projectName, status)\n",
    "    {\n",
    "        FundingAmount = fundingAmount;\n",
    "    }\n",
    "\n",
    "    public override void AssignTeamMember(string memberName)\n",
    "    {\n",
    "        Console.WriteLine($\"Team member {memberName} with specific skills assigned to research project {ProjectName}\");\n",
    "    }\n",
    "}\n",
    "\n",
    "public class InfrastructureProject : Project\n",
    "{\n",
    "    public int ExecutionPeriod { get; set; }\n",
    "\n",
    "    public InfrastructureProject(int projectId, string projectName, string status, int executionPeriod)\n",
    "        : base(projectId, projectName, status)\n",
    "    {\n",
    "        ExecutionPeriod = executionPeriod;\n",
    "    }\n",
    "\n",
    "    public override void GetProjectDetails()\n",
    "    {\n",
    "        base.GetProjectDetails();\n",
    "        Console.WriteLine($\"Execution Period: {ExecutionPeriod} months\");\n",
    "    }\n",
    "}\n",
    "ProductProject productProject = new ProductProject(1, \"Product A\", \"In Progress\", new DateTime(2023, 12, 31));\n",
    "ResearchProject researchProject = new ResearchProject(2, \"Research X\", \"Planning\", 500000);\n",
    "InfrastructureProject infrastructureProject = new InfrastructureProject(3, \"Infrastructure Y\", \"Completed\", 12);\n",
    "\n",
    "productProject.UpdateStatus(\"Completed\");\n",
    "researchProject.AssignTeamMember(\"John Doe\");\n",
    "infrastructureProject.GetProjectDetails();\n",
    "\n"
   ]
  }
 ],
 "metadata": {
  "kernelspec": {
   "display_name": ".NET (C#)",
   "language": "C#",
   "name": ".net-csharp"
  },
  "polyglot_notebook": {
   "kernelInfo": {
    "defaultKernelName": "csharp",
    "items": [
     {
      "aliases": [],
      "languageName": "csharp",
      "name": "csharp"
     }
    ]
   }
  }
 },
 "nbformat": 4,
 "nbformat_minor": 2
}
