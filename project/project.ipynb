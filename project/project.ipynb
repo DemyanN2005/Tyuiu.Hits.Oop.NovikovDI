{
 "cells": [
  {
   "cell_type": "code",
   "execution_count": 3,
   "metadata": {
    "dotnet_interactive": {
     "language": "csharp"
    },
    "polyglot_notebook": {
     "kernelName": "csharp"
    },
    "vscode": {
     "languageId": "polyglot-notebook"
    }
   },
   "outputs": [
    {
     "name": "stdout",
     "output_type": "stream",
     "text": [
      "Статус проекта Запуск нового продукта обновлен до Завершен\n",
      "Ожидаемая дата завершения: 12/31/2024\n",
      "Алиса назначен на проект Запуск нового продукта\n",
      "ID проекта: 1\n",
      "Название проекта: Запуск нового продукта\n",
      "Статус: Завершен\n",
      "Участники команды:\n",
      " - Алиса\n",
      "\n",
      "Боб назначен на проект Исследование ИИ\n",
      "Боб должен иметь специфические навыки для исследовательского проекта.\n",
      "ID проекта: 2\n",
      "Название проекта: Исследование ИИ\n",
      "Статус: Планирование\n",
      "Участники команды:\n",
      " - Боб\n",
      "\n",
      "Чарли назначен на проект Строительство моста\n",
      "ID проекта: 3\n",
      "Название проекта: Строительство моста\n",
      "Статус: В процессе\n",
      "Участники команды:\n",
      " - Чарли\n",
      "Срок выполнения: 24 месяцев\n"
     ]
    }
   ],
   "source": [
    "using System;\n",
    "using System.Collections.Generic;\n",
    "\n",
    "public class Project\n",
    "{\n",
    "    public int ProjectId { get; set; }\n",
    "    public string ProjectName { get; set; }\n",
    "    public string Status { get; set; }\n",
    "    public List<string> TeamMembers { get; set; }\n",
    "\n",
    "    public Project(int projectId, string projectName, string status)\n",
    "    {\n",
    "        ProjectId = projectId;\n",
    "        ProjectName = projectName;\n",
    "        Status = status;\n",
    "        TeamMembers = new List<string>();\n",
    "    }\n",
    "\n",
    "    public virtual void UpdateStatus(string newStatus)\n",
    "    {\n",
    "        Status = newStatus;\n",
    "        Console.WriteLine($\"Статус проекта {ProjectName} обновлен до {Status}\");\n",
    "    }\n",
    "\n",
    "    public virtual void GetProjectDetails()\n",
    "    {\n",
    "        Console.WriteLine($\"ID проекта: {ProjectId}\");\n",
    "        Console.WriteLine($\"Название проекта: {ProjectName}\");\n",
    "        Console.WriteLine($\"Статус: {Status}\");\n",
    "        Console.WriteLine(\"Участники команды:\");\n",
    "        foreach (var member in TeamMembers)\n",
    "        {\n",
    "            Console.WriteLine($\" - {member}\");\n",
    "        }\n",
    "    }\n",
    "\n",
    "    public virtual void AssignTeamMember(string memberName)\n",
    "    {\n",
    "        TeamMembers.Add(memberName);\n",
    "        Console.WriteLine($\"{memberName} назначен на проект {ProjectName}\");\n",
    "    }\n",
    "}\n",
    "\n",
    "public class ProductProject : Project\n",
    "{\n",
    "    public DateTime ExpectedCompletionDate { get; set; }\n",
    "\n",
    "    public ProductProject(int projectId, string projectName, string status, DateTime expectedCompletionDate)\n",
    "        : base(projectId, projectName, status)\n",
    "    {\n",
    "        ExpectedCompletionDate = expectedCompletionDate;\n",
    "    }\n",
    "\n",
    "    public override void UpdateStatus(string newStatus)\n",
    "    {\n",
    "        base.UpdateStatus(newStatus);\n",
    "        Console.WriteLine($\"Ожидаемая дата завершения: {ExpectedCompletionDate.ToShortDateString()}\");\n",
    "    }\n",
    "}\n",
    "\n",
    "public class ResearchProject : Project\n",
    "{\n",
    "    public decimal FundingAmount { get; set; }\n",
    "\n",
    "    public ResearchProject(int projectId, string projectName, string status, decimal fundingAmount)\n",
    "        : base(projectId, projectName, status)\n",
    "    {\n",
    "        FundingAmount = fundingAmount;\n",
    "    }\n",
    "\n",
    "    public override void AssignTeamMember(string memberName)\n",
    "    {\n",
    "        base.AssignTeamMember(memberName);\n",
    "        Console.WriteLine($\"{memberName} должен иметь специфические навыки для исследовательского проекта.\");\n",
    "    }\n",
    "}\n",
    "\n",
    "public class InfrastructureProject : Project\n",
    "{\n",
    "    public int ExecutionPeriod { get; set; } // в месяцах\n",
    "\n",
    "    public InfrastructureProject(int projectId, string projectName, string status, int executionPeriod)\n",
    "        : base(projectId, projectName, status)\n",
    "    {\n",
    "        ExecutionPeriod = executionPeriod;\n",
    "    }\n",
    "\n",
    "    public override void GetProjectDetails()\n",
    "    {\n",
    "        base.GetProjectDetails();\n",
    "        Console.WriteLine($\"Срок выполнения: {ExecutionPeriod} месяцев\");\n",
    "    }\n",
    "}\n",
    "\n",
    "\n",
    "ProductProject productProject = new ProductProject(1, \"Запуск нового продукта\", \"В процессе\", new DateTime(2024, 12, 31));\n",
    "productProject.UpdateStatus(\"Завершен\");\n",
    "productProject.AssignTeamMember(\"Алиса\");\n",
    "productProject.GetProjectDetails();\n",
    "\n",
    "Console.WriteLine();\n",
    "\n",
    "ResearchProject researchProject = new ResearchProject(2, \"Исследование ИИ\", \"Планирование\", 1000000m);\n",
    "researchProject.AssignTeamMember(\"Боб\");\n",
    "researchProject.GetProjectDetails();\n",
    "\n",
    "Console.WriteLine();\n",
    "\n",
    "InfrastructureProject infrastructureProject = new InfrastructureProject(3, \"Строительство моста\", \"В процессе\", 24);\n",
    "infrastructureProject.AssignTeamMember(\"Чарли\");\n",
    "infrastructureProject.GetProjectDetails();\n"
   ]
  }
 ],
 "metadata": {
  "kernelspec": {
   "display_name": ".NET (C#)",
   "language": "C#",
   "name": ".net-csharp"
  },
  "language_info": {
   "name": "csharp"
  },
  "polyglot_notebook": {
   "kernelInfo": {
    "defaultKernelName": "csharp",
    "items": [
     {
      "aliases": [],
      "name": "csharp"
     }
    ]
   }
  }
 },
 "nbformat": 4,
 "nbformat_minor": 2
}
