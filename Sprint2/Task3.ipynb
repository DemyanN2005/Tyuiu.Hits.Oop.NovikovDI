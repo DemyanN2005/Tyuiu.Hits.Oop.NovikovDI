{
 "cells": [
  {
   "cell_type": "markdown",
   "metadata": {},
   "source": [
    "<h1 style=\"color:DodgerBlue\">Индивидальный проект</h1>"
   ]
  },
  {
   "cell_type": "markdown",
   "metadata": {},
   "source": [
    "<h2 style=\"color:DodgerBlue\">Название проекта:</h2>\n",
    "\n",
    "----\n",
    "\n",
    "### Вариант задания \n"
   ]
  },
  {
   "cell_type": "markdown",
   "metadata": {},
   "source": [
    "<h2 style=\"color:DodgerBlue\">Описание проекта:</h2>\n",
    "\n",
    "----\n",
    "\n",
    "[ваш текст]\n",
    "\n",
    "#### Дополнительное задание\n",
    "Добавьте к сущестующим классам (базовыму и производным 3-4 атрибута и метода) и реализуйте простое, сложное и множественное наследование"
   ]
  },
  {
   "cell_type": "markdown",
   "metadata": {},
   "source": [
    "<h2 style=\"color:DodgerBlue\">Реализация:</h2>\n",
    "\n",
    "----"
   ]
  },
  {
   "cell_type": "code",
   "execution_count": null,
   "metadata": {
    "dotnet_interactive": {
     "language": "csharp"
    },
    "polyglot_notebook": {
     "kernelName": "csharp"
    }
   },
   "outputs": [],
   "source": [
    "using System;\n",
    "\n",
    "public class Project\n",
    "{\n",
    "    public int ProjectId { get; set; }\n",
    "    public string ProjectName { get; set; }\n",
    "    public string Status { get; set; }\n",
    "    public string Description { get; set; }\n",
    "\n",
    "    public Project(int projectId, string projectName, string status, string description)\n",
    "    {\n",
    "        ProjectId = projectId;\n",
    "        ProjectName = projectName;\n",
    "        Status = status;\n",
    "        Description = description;\n",
    "    }\n",
    "\n",
    "    public virtual void UpdateStatus(string newStatus)\n",
    "    {\n",
    "        Status = newStatus;\n",
    "        Console.WriteLine($\"Status of project {ProjectName} updated to {Status}\");\n",
    "    }\n",
    "\n",
    "    public virtual void GetProjectDetails()\n",
    "    {\n",
    "        Console.WriteLine($\"Project ID: {ProjectId}, Project Name: {ProjectName}, Status: {Status}, Description: {Description}\");\n",
    "    }\n",
    "\n",
    "    public virtual void AssignTeamMember(string memberName)\n",
    "    {\n",
    "        Console.WriteLine($\"Team member {memberName} assigned to project {ProjectName}\");\n",
    "    }\n",
    "}\n",
    "\n",
    "public class ProductProject : Project\n",
    "{\n",
    "    public DateTime ExpectedCompletionDate { get; set; }\n",
    "    public string ProductType { get; set; }\n",
    "\n",
    "    public ProductProject(int projectId, string projectName, string status, string description, DateTime expectedCompletionDate, string productType)\n",
    "        : base(projectId, projectName, status, description)\n",
    "    {\n",
    "        ExpectedCompletionDate = expectedCompletionDate;\n",
    "        ProductType = productType;\n",
    "    }\n",
    "\n",
    "    public override void UpdateStatus(string newStatus)\n",
    "    {\n",
    "        base.UpdateStatus(newStatus);\n",
    "        Console.WriteLine($\"Expected Completion Date: {ExpectedCompletionDate.ToShortDateString()}, Product Type: {ProductType}\");\n",
    "    }\n",
    "}\n",
    "\n",
    "public class ResearchProject : Project\n",
    "{\n",
    "    public decimal FundingAmount { get; set; }\n",
    "    public string ResearchField { get; set; }\n",
    "\n",
    "    public ResearchProject(int projectId, string projectName, string status, string description, decimal fundingAmount, string researchField)\n",
    "        : base(projectId, projectName, status, description)\n",
    "    {\n",
    "        FundingAmount = fundingAmount;\n",
    "        ResearchField = researchField;\n",
    "    }\n",
    "\n",
    "    public override void AssignTeamMember(string memberName)\n",
    "    {\n",
    "        Console.WriteLine($\"Team member {memberName} with specific skills assigned to research project {ProjectName}, Research Field: {ResearchField}\");\n",
    "    }\n",
    "}\n",
    "\n",
    "public class InfrastructureProject : Project\n",
    "{\n",
    "    public int ExecutionPeriod { get; set; }\n",
    "    public string Location { get; set; }\n",
    "\n",
    "    public InfrastructureProject(int projectId, string projectName, string status, string description, int executionPeriod, string location)\n",
    "        : base(projectId, projectName, status, description)\n",
    "    {\n",
    "        ExecutionPeriod = executionPeriod;\n",
    "        Location = location;\n",
    "    }\n",
    "\n",
    "    public override void GetProjectDetails()\n",
    "    {\n",
    "        base.GetProjectDetails();\n",
    "        Console.WriteLine($\"Execution Period: {ExecutionPeriod} months, Location: {Location}\");\n",
    "    }\n",
    "}\n",
    "\n",
    "ProductProject productProject = new ProductProject(1, \"Product A\", \"In Progress\", \"Development of Product A\", new DateTime(2023, 12, 31), \"Software\");\n",
    "ResearchProject researchProject = new ResearchProject(2, \"Research X\", \"Planning\", \"Research on X\", 500000, \"Biotechnology\");\n",
    "InfrastructureProject infrastructureProject = new InfrastructureProject(3, \"Infrastructure Y\", \"Completed\", \"Building Infrastructure Y\", 12, \"New York\");\n",
    "\n",
    "productProject.UpdateStatus(\"Completed\");\n",
    "researchProject.AssignTeamMember(\"John Doe\");\n",
    "infrastructureProject.GetProjectDetails();\n",
    "\n"
   ]
  }
 ],
 "metadata": {
  "kernelspec": {
   "display_name": ".NET (C#)",
   "language": "C#",
   "name": ".net-csharp"
  },
  "polyglot_notebook": {
   "kernelInfo": {
    "defaultKernelName": "csharp",
    "items": [
     {
      "aliases": [],
      "languageName": "csharp",
      "name": "csharp"
     }
    ]
   }
  }
 },
 "nbformat": 4,
 "nbformat_minor": 2
}
